{
 "cells": [
  {
   "cell_type": "code",
   "execution_count": 2,
   "metadata": {},
   "outputs": [],
   "source": [
    "import pandas as pd\n",
    "import torch"
   ]
  },
  {
   "cell_type": "code",
   "execution_count": 12,
   "metadata": {},
   "outputs": [
    {
     "data": {
      "text/plain": [
       "Country                                                           New Zealand\n",
       "Alpha2Code                                                                 NZ\n",
       "Intermediate Region Name                            Australia and New Zealand\n",
       "One Hot Region              [0, 1, 0, 0, 0, 0, 0, 0, 0, 0, 0, 0, 0, 0, 0, ...\n",
       "One Hot Country             [0, 0, 0, 0, 0, 0, 0, 0, 0, 0, 0, 0, 0, 0, 0, ...\n",
       "Name: 144, dtype: object"
      ]
     },
     "execution_count": 12,
     "metadata": {},
     "output_type": "execute_result"
    }
   ],
   "source": [
    "df = pd.read_csv('/home/leon/Documents/GPML/good_practices_ml/country_list/country_list_region.csv')\n",
    "df.loc[144]"
   ]
  },
  {
   "cell_type": "code",
   "execution_count": 14,
   "metadata": {},
   "outputs": [
    {
     "data": {
      "text/plain": [
       "Intermediate Region Name\n",
       "Antarctica                                                                 [8]\n",
       "Australia and New Zealand                                            [11, 144]\n",
       "Caribbean                    [3, 4, 12, 16, 26, 28, 44, 46, 51, 52, 66, 74,...\n",
       "Central America                           [32, 43, 77, 81, 134, 140, 146, 179]\n",
       "Central Asia                                          [99, 106, 185, 187, 198]\n",
       "Eastern Africa               [58, 98, 122, 131, 133, 136, 159, 163, 166, 17...\n",
       "Eastern Asia                             [41, 80, 97, 102, 103, 126, 127, 192]\n",
       "Eastern Europe                  [20, 31, 48, 84, 119, 152, 160, 162, 173, 194]\n",
       "Melanesia                                             [60, 137, 149, 165, 204]\n",
       "Micronesia                                                           [78, 156]\n",
       "Middle Africa                                              [7, 34, 35, 40, 64]\n",
       "Northern Africa                                   [53, 56, 116, 117, 167, 188]\n",
       "Northern America                                             [23, 33, 72, 196]\n",
       "Northern Europe              [13, 50, 55, 59, 62, 65, 69, 86, 88, 92, 94, 1...\n",
       "Polynesia                                                  [38, 148, 189, 205]\n",
       "South America                [9, 25, 27, 39, 42, 54, 61, 68, 76, 79, 147, 1...\n",
       "South-eastern Asia           [24, 85, 100, 107, 125, 135, 150, 169, 184, 18...\n",
       "Southern Africa                                            [30, 138, 182, 208]\n",
       "Southern Asia                          [2, 17, 29, 89, 91, 111, 132, 143, 151]\n",
       "Southern Europe              [0, 5, 15, 57, 71, 75, 82, 93, 120, 123, 130, ...\n",
       "Western Africa               [19, 22, 37, 45, 70, 73, 112, 124, 129, 139, 1...\n",
       "Western Asia                 [1, 6, 14, 21, 47, 67, 87, 90, 96, 104, 108, 1...\n",
       "Western Europe                        [10, 18, 36, 49, 63, 110, 114, 118, 141]\n",
       "Name: Country, dtype: object"
      ]
     },
     "execution_count": 14,
     "metadata": {},
     "output_type": "execute_result"
    }
   ],
   "source": [
    "\n",
    "# \n",
    "grouped_indexes = df.groupby('Intermediate Region Name')['Country'].apply(lambda x: list(x.index))\n",
    "grouped_indexes"
   ]
  },
  {
   "cell_type": "code",
   "execution_count": 16,
   "metadata": {},
   "outputs": [
    {
     "name": "stdout",
     "output_type": "stream",
     "text": [
      "[8]\n",
      "---\n",
      "[11, 144]\n",
      "---\n",
      "[3, 4, 12, 16, 26, 28, 44, 46, 51, 52, 66, 74, 83, 95, 101, 105, 109, 121, 128, 153, 180, 191, 201, 202]\n",
      "---\n",
      "[32, 43, 77, 81, 134, 140, 146, 179]\n",
      "---\n",
      "[99, 106, 185, 187, 198]\n",
      "---\n",
      "[58, 98, 122, 131, 133, 136, 159, 163, 166, 177, 178, 193, 195, 209, 210]\n",
      "---\n",
      "[41, 80, 97, 102, 103, 126, 127, 192]\n",
      "---\n",
      "[20, 31, 48, 84, 119, 152, 160, 162, 173, 194]\n",
      "---\n",
      "[60, 137, 149, 165, 204]\n",
      "---\n",
      "[78, 156]\n",
      "---\n",
      "[7, 34, 35, 40, 64]\n",
      "---\n",
      "[53, 56, 116, 117, 167, 188]\n",
      "---\n",
      "[23, 33, 72, 196]\n",
      "---\n",
      "[13, 50, 55, 59, 62, 65, 69, 86, 88, 92, 94, 113, 115, 142, 168, 172]\n",
      "---\n",
      "[38, 148, 189, 205]\n",
      "---\n",
      "[9, 25, 27, 39, 42, 54, 61, 68, 76, 79, 147, 157, 197, 200]\n",
      "---\n",
      "[24, 85, 100, 107, 125, 135, 150, 169, 184, 186, 203]\n",
      "---\n",
      "[30, 138, 182, 208]\n",
      "---\n",
      "[2, 17, 29, 89, 91, 111, 132, 143, 151]\n",
      "---\n",
      "[0, 5, 15, 57, 71, 75, 82, 93, 120, 123, 130, 155, 161, 171, 175, 199, 206]\n",
      "---\n",
      "[19, 22, 37, 45, 70, 73, 112, 124, 129, 139, 170, 174, 176, 183]\n",
      "---\n",
      "[1, 6, 14, 21, 47, 67, 87, 90, 96, 104, 108, 145, 154, 158, 164, 181, 190, 207]\n",
      "---\n",
      "[10, 18, 36, 49, 63, 110, 114, 118, 141]\n",
      "---\n"
     ]
    }
   ],
   "source": [
    "for x in grouped_indexes:\n",
    "    print(x)\n",
    "    print('---')"
   ]
  },
  {
   "cell_type": "code",
   "execution_count": null,
   "metadata": {},
   "outputs": [],
   "source": []
  }
 ],
 "metadata": {
  "kernelspec": {
   "display_name": ".venv",
   "language": "python",
   "name": "python3"
  },
  "language_info": {
   "codemirror_mode": {
    "name": "ipython",
    "version": 3
   },
   "file_extension": ".py",
   "mimetype": "text/x-python",
   "name": "python",
   "nbconvert_exporter": "python",
   "pygments_lexer": "ipython3",
   "version": "3.10.12"
  }
 },
 "nbformat": 4,
 "nbformat_minor": 2
}
