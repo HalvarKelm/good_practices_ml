{
 "cells": [
  {
   "cell_type": "code",
   "execution_count": null,
   "metadata": {},
   "outputs": [],
   "source": [
    "import clip\n",
    "import torch\n",
    "import pandas as pd\n",
    "import sys\n",
    "import PIL\n",
    "sys.path.append(\"./../\")\n",
    "from scripts import load_dataset"
   ]
  },
  {
   "cell_type": "code",
   "execution_count": null,
   "metadata": {},
   "outputs": [],
   "source": [
    "country_list = pd.read_csv(\"./../data_finding/country_list.csv\")[\"Country\"].to_list()\n",
    "print(country_list)\n",
    "country_prompt = list(map((lambda x: f\"This image shows the country {x}\"),country_list))"
   ]
  },
  {
   "cell_type": "code",
   "execution_count": null,
   "metadata": {},
   "outputs": [],
   "source": [
    "device = \"cuda\" if torch.cuda.is_available() else \"cpu\"\n",
    "model, preprocessor = clip.load(\"ViT-B/32\", device=device)\n",
    "\n",
    "simple_tokens = clip.tokenize(country_list)\n",
    "promt_token = clip.tokenize(country_prompt)\n",
    "\n",
    "simple_embedding = model.encode_text(simple_tokens)\n",
    "prompt_embedding = model.encode_text(promt_token)\n",
    "\n",
    "torch.save(simple_embedding, 'Prompt/prompt_simple_embedding.pt')\n",
    "torch.save(prompt_embedding, 'Prompt/prompt_image_shows_embedding.pt')"
   ]
  },
  {
   "cell_type": "code",
   "execution_count": null,
   "metadata": {},
   "outputs": [],
   "source": [
    "geoguessr_df = load_dataset.load_data(DATA_PATH=\"/share/temp/bjordan/good_practices_in_machine_learning/compressed_dataset/\")\n",
    "#aerial_map_df = load_dataset.load_data(DATA_PATH=\"/share/temp/bjordan/good_practices_in_machine_learning/OpenAerialMap/\")\n",
    "#bigfoto_df = load_dataset.load_data(DATA_PATH=\"/share/temp/bjordan/good_practices_in_machine_learning/BigFoto/\")"
   ]
  },
  {
   "cell_type": "code",
   "execution_count": null,
   "metadata": {},
   "outputs": [],
   "source": [
    "geoguessr_df[\"Embedding\"] = geoguessr_df[\"path\"].apply(lambda path: model.encode_image(preprocessor(PIL.Image.open(path)).unsqueeze(0).to(device)))\n",
    "geoguessr_df.to_csv(\"Image/geoguessr_embeddings.csv\")"
   ]
  },
  {
   "cell_type": "code",
   "execution_count": null,
   "metadata": {},
   "outputs": [],
   "source": [
    "aerial_map_df[\"Embedding\"] = aerial_map_df[\"path\"].apply(lambda path: model.encode_image(preprocessor(PIL.Image.open(path)).unsqueeze(0).to(device)))\n",
    "aerial_map_df.to_csv(\"Image/aerial_map_embeddings.csv\")"
   ]
  }
 ],
 "metadata": {
  "kernelspec": {
   "display_name": "venv_gpml",
   "language": "python",
   "name": "python3"
  },
  "language_info": {
   "codemirror_mode": {
    "name": "ipython",
    "version": 3
   },
   "file_extension": ".py",
   "mimetype": "text/x-python",
   "name": "python",
   "nbconvert_exporter": "python",
   "pygments_lexer": "ipython3",
   "version": "3.8.10"
  }
 },
 "nbformat": 4,
 "nbformat_minor": 2
}
