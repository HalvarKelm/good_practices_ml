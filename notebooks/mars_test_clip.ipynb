{
 "cells": [
  {
   "cell_type": "code",
   "execution_count": 11,
   "metadata": {},
   "outputs": [
    {
     "name": "stderr",
     "output_type": "stream",
     "text": [
      "/home/leon/Documents/GPML/good_practices_ml/.venv/lib/python3.10/site-packages/tqdm/auto.py:21: TqdmWarning: IProgress not found. Please update jupyter and ipywidgets. See https://ipywidgets.readthedocs.io/en/stable/user_install.html\n",
      "  from .autonotebook import tqdm as notebook_tqdm\n"
     ]
    }
   ],
   "source": [
    "import sys\n",
    "sys.path.append('./../')\n",
    "# ----------------------------------------------\n",
    "import torch\n",
    "import random\n",
    "import models.model_tester as testing\n",
    "import pandas as pd\n",
    "import scripts.load_dataset as geo_data\n",
    "import os\n",
    "import random\n",
    "import clip\n",
    "import torch"
   ]
  },
  {
   "cell_type": "code",
   "execution_count": 17,
   "metadata": {},
   "outputs": [],
   "source": [
    "\n",
    "def run_experiment(DATA_PATH: str, batch_size: int, REPO_PATH: str):\n",
    "    \n",
    "    seed = 1234\n",
    "    random.seed(seed)\n",
    "\n",
    "    device = \"cuda\" if torch.cuda.is_available() else \"cpu\"\n",
    "    model, preprocessor = clip.load(\"ViT-B/32\", device=device)\n",
    "\n",
    "    mars_df = geo_data.load_data(\n",
    "        DATA_PATH=DATA_PATH)\n",
    "\n",
    "    # create country list for the clip model to use as possible labels\n",
    "    country_list = pd.read_csv(os.path.join(\n",
    "        REPO_PATH, \"country_list\",\"country_list_region_and_continent.csv\"))['Country'].to_list()\n",
    "    country_list.append('Mars')\n",
    "    print(mars_df)\n",
    "    mars_dataset = geo_data.ImageDataset_from_df(mars_df, transform=preprocessor)\n",
    "\n",
    "    names=['standard', 'elab', 'streetveiw', 'mars']\n",
    "    prompts=[(lambda x: x), (lambda x: f\"This image shows the country {x}\"), (lambda x: f\"A google streetview image from {x}\"), (lambda x: f\"An image from Mars {x}\")]\n",
    "    standard_tester = testing.ModelTester(mars_dataset, model,prompts, batch_size,\n",
    "                                          country_list, seed, REPO_PATH, 'pretrained', names, 'mars_test')\n",
    "    standard_tester.run_test()\n",
    "\n",
    "\n",
    "\n",
    "\n"
   ]
  },
  {
   "cell_type": "code",
   "execution_count": 19,
   "metadata": {},
   "outputs": [
    {
     "name": "stdout",
     "output_type": "stream",
     "text": [
      "           label  width  height format  \\\n",
      "0   perseverence   1648    1200    PNG   \n",
      "1    oppertunity    512     512    PNG   \n",
      "2       MSL-data   1344    1200    PNG   \n",
      "3   perseverence   1648    1200    PNG   \n",
      "4    oppertunity   1024    1024    PNG   \n",
      "..           ...    ...     ...    ...   \n",
      "75   oppertunity   1024    1024    PNG   \n",
      "76   spirit-data   1024    1024    PNG   \n",
      "77  perseverence   1648    1200    PNG   \n",
      "78   oppertunity   1024    1024    PNG   \n",
      "79  perseverence   1648    1200    PNG   \n",
      "\n",
      "                                                 path  \n",
      "0   /media/leon/Samsung_T5/GPML/Mars_Data/persever...  \n",
      "1   /media/leon/Samsung_T5/GPML/Mars_Data/oppertun...  \n",
      "2   /media/leon/Samsung_T5/GPML/Mars_Data/MSL-data...  \n",
      "3   /media/leon/Samsung_T5/GPML/Mars_Data/persever...  \n",
      "4   /media/leon/Samsung_T5/GPML/Mars_Data/oppertun...  \n",
      "..                                                ...  \n",
      "75  /media/leon/Samsung_T5/GPML/Mars_Data/oppertun...  \n",
      "76  /media/leon/Samsung_T5/GPML/Mars_Data/spirit-d...  \n",
      "77  /media/leon/Samsung_T5/GPML/Mars_Data/persever...  \n",
      "78  /media/leon/Samsung_T5/GPML/Mars_Data/oppertun...  \n",
      "79  /media/leon/Samsung_T5/GPML/Mars_Data/persever...  \n",
      "\n",
      "[80 rows x 5 columns]\n"
     ]
    },
    {
     "ename": "TypeError",
     "evalue": "'function' object is not iterable",
     "output_type": "error",
     "traceback": [
      "\u001b[0;31m---------------------------------------------------------------------------\u001b[0m",
      "\u001b[0;31mTypeError\u001b[0m                                 Traceback (most recent call last)",
      "Cell \u001b[0;32mIn[19], line 3\u001b[0m\n\u001b[1;32m      1\u001b[0m DATA_PATH \u001b[38;5;241m=\u001b[39m \u001b[38;5;124m\"\u001b[39m\u001b[38;5;124m/media/leon/Samsung_T5/GPML/Mars_Data/\u001b[39m\u001b[38;5;124m\"\u001b[39m\n\u001b[1;32m      2\u001b[0m REPO_PATH \u001b[38;5;241m=\u001b[39m \u001b[38;5;124m\"\u001b[39m\u001b[38;5;124m/home/leon/Documents/GPML/good_practices_ml/\u001b[39m\u001b[38;5;124m\"\u001b[39m\n\u001b[0;32m----> 3\u001b[0m \u001b[43mrun_experiment\u001b[49m\u001b[43m(\u001b[49m\u001b[43mDATA_PATH\u001b[49m\u001b[43m,\u001b[49m\u001b[43m \u001b[49m\u001b[38;5;241;43m10\u001b[39;49m\u001b[43m,\u001b[49m\u001b[43m \u001b[49m\u001b[43mREPO_PATH\u001b[49m\u001b[43m)\u001b[49m\n",
      "Cell \u001b[0;32mIn[17], line 21\u001b[0m, in \u001b[0;36mrun_experiment\u001b[0;34m(DATA_PATH, batch_size, REPO_PATH)\u001b[0m\n\u001b[1;32m     17\u001b[0m mars_dataset \u001b[38;5;241m=\u001b[39m geo_data\u001b[38;5;241m.\u001b[39mImageDataset_from_df(mars_df, transform\u001b[38;5;241m=\u001b[39mpreprocessor)\n\u001b[1;32m     19\u001b[0m standard_tester \u001b[38;5;241m=\u001b[39m testing\u001b[38;5;241m.\u001b[39mModelTester(mars_dataset, model, (\u001b[38;5;28;01mlambda\u001b[39;00m x: x), batch_size,\n\u001b[1;32m     20\u001b[0m                                       country_list, seed, REPO_PATH, \u001b[38;5;124m'\u001b[39m\u001b[38;5;124mpretrained\u001b[39m\u001b[38;5;124m'\u001b[39m, \u001b[38;5;124m'\u001b[39m\u001b[38;5;124mno_prompt\u001b[39m\u001b[38;5;124m'\u001b[39m, \u001b[38;5;124m'\u001b[39m\u001b[38;5;124mmars_test\u001b[39m\u001b[38;5;124m'\u001b[39m)\n\u001b[0;32m---> 21\u001b[0m \u001b[43mstandard_tester\u001b[49m\u001b[38;5;241;43m.\u001b[39;49m\u001b[43mrun_test\u001b[49m\u001b[43m(\u001b[49m\u001b[43m)\u001b[49m\n\u001b[1;32m     22\u001b[0m elab_tester \u001b[38;5;241m=\u001b[39m testing\u001b[38;5;241m.\u001b[39mModelTester(mars_dataset, model, (\n\u001b[1;32m     23\u001b[0m     \u001b[38;5;28;01mlambda\u001b[39;00m x: \u001b[38;5;124mf\u001b[39m\u001b[38;5;124m\"\u001b[39m\u001b[38;5;124mThis image shows the country \u001b[39m\u001b[38;5;132;01m{\u001b[39;00mx\u001b[38;5;132;01m}\u001b[39;00m\u001b[38;5;124m\"\u001b[39m), batch_size, country_list, seed, REPO_PATH, \u001b[38;5;124m'\u001b[39m\u001b[38;5;124mpretrained\u001b[39m\u001b[38;5;124m'\u001b[39m, \u001b[38;5;124m'\u001b[39m\u001b[38;5;124melab_prompt\u001b[39m\u001b[38;5;124m'\u001b[39m, \u001b[38;5;124m'\u001b[39m\u001b[38;5;124mmars_test\u001b[39m\u001b[38;5;124m'\u001b[39m)\n\u001b[1;32m     24\u001b[0m elab_tester\u001b[38;5;241m.\u001b[39mrun_test()\n",
      "File \u001b[0;32m~/Documents/GPML/good_practices_ml/notebooks/./../models/model_tester.py:85\u001b[0m, in \u001b[0;36mModelTester.run_test\u001b[0;34m(self)\u001b[0m\n\u001b[1;32m     82\u001b[0m random\u001b[38;5;241m.\u001b[39mseed(\u001b[38;5;28mself\u001b[39m\u001b[38;5;241m.\u001b[39mseed)\n\u001b[1;32m     83\u001b[0m device \u001b[38;5;241m=\u001b[39m \u001b[38;5;124m\"\u001b[39m\u001b[38;5;124mcuda\u001b[39m\u001b[38;5;124m\"\u001b[39m \u001b[38;5;28;01mif\u001b[39;00m torch\u001b[38;5;241m.\u001b[39mcuda\u001b[38;5;241m.\u001b[39mis_available() \u001b[38;5;28;01melse\u001b[39;00m \u001b[38;5;124m\"\u001b[39m\u001b[38;5;124mcpu\u001b[39m\u001b[38;5;124m\"\u001b[39m\n\u001b[0;32m---> 85\u001b[0m \u001b[38;5;28;01mfor\u001b[39;00m promt, promt_name \u001b[38;5;129;01min\u001b[39;00m \u001b[38;5;28;43mzip\u001b[39;49m\u001b[43m(\u001b[49m\u001b[38;5;28;43mself\u001b[39;49m\u001b[38;5;241;43m.\u001b[39;49m\u001b[43mprompt\u001b[49m\u001b[43m,\u001b[49m\u001b[38;5;28;43mself\u001b[39;49m\u001b[38;5;241;43m.\u001b[39;49m\u001b[43mprompt_name\u001b[49m\u001b[43m)\u001b[49m:\n\u001b[1;32m     86\u001b[0m     country_tokens \u001b[38;5;241m=\u001b[39m clip\u001b[38;5;241m.\u001b[39mtokenize(\u001b[38;5;28mlist\u001b[39m(\u001b[38;5;28mmap\u001b[39m(promt, \u001b[38;5;28mself\u001b[39m\u001b[38;5;241m.\u001b[39mcountry_list)))\n\u001b[1;32m     87\u001b[0m     \u001b[38;5;28mprint\u001b[39m(\u001b[38;5;124mf\u001b[39m\u001b[38;5;124m\"\u001b[39m\u001b[38;5;124mRunning data from dataset: \u001b[39m\u001b[38;5;132;01m{\u001b[39;00m\u001b[38;5;28mself\u001b[39m\u001b[38;5;241m.\u001b[39mtest_set\u001b[38;5;241m.\u001b[39mname\u001b[38;5;132;01m}\u001b[39;00m\u001b[38;5;124m\"\u001b[39m)\n",
      "\u001b[0;31mTypeError\u001b[0m: 'function' object is not iterable"
     ]
    }
   ],
   "source": [
    "DATA_PATH = \"/media/leon/Samsung_T5/GPML/Mars_Data/\"\n",
    "REPO_PATH = \"/home/leon/Documents/GPML/good_practices_ml/\"\n",
    "run_experiment(DATA_PATH, 10, REPO_PATH)"
   ]
  },
  {
   "cell_type": "code",
   "execution_count": null,
   "metadata": {},
   "outputs": [],
   "source": []
  }
 ],
 "metadata": {
  "kernelspec": {
   "display_name": ".venv",
   "language": "python",
   "name": "python3"
  },
  "language_info": {
   "codemirror_mode": {
    "name": "ipython",
    "version": 3
   },
   "file_extension": ".py",
   "mimetype": "text/x-python",
   "name": "python",
   "nbconvert_exporter": "python",
   "pygments_lexer": "ipython3",
   "version": "3.10.12"
  }
 },
 "nbformat": 4,
 "nbformat_minor": 2
}
